{
 "cells": [
  {
   "cell_type": "markdown",
   "metadata": {},
   "source": [
    "# 1. 数据预处理"
   ]
  },
  {
   "cell_type": "code",
   "execution_count": null,
   "metadata": {},
   "outputs": [],
   "source": [
    "import scanpy as sc\n",
    "import os\n",
    "\n",
    "input_dir = \"./datasets/mel_data/\"\n",
    "adata = sc.read_h5ad(os.path.join(input_dir, \"mel_adata.h5ad\"))\n",
    "sc.pp.log1p(adata)\n",
    "sc.pp.filter_genes(adata, min_cells=5)\n",
    "adata.obs['celltype'] = adata.obs.idxmax(axis=1)\n",
    "cell_type_counts = adata.obs['celltype'].value_counts()  \n",
    "low_count_types = cell_type_counts[cell_type_counts < 5].index  \n",
    "adata = adata[~adata.obs['celltype'].isin(low_count_types)] \n",
    "genes_use = adata.var_names"
   ]
  },
  {
   "cell_type": "code",
   "execution_count": 2,
   "metadata": {},
   "outputs": [
    {
     "data": {
      "text/plain": [
       "View of AnnData object with n_obs × n_vars = 287 × 12473\n",
       "    obs: 'B', 'CAF', 'Endo', 'Macro', 'Melanoma or unclassified', 'NK', 'T', 'celltype'\n",
       "    var: 'n_cells'\n",
       "    uns: 'log1p'\n",
       "    obsm: 'spatial'"
      ]
     },
     "execution_count": 2,
     "metadata": {},
     "output_type": "execute_result"
    }
   ],
   "source": [
    "adata"
   ]
  },
  {
   "cell_type": "markdown",
   "metadata": {},
   "source": [
    "# 2. 训练数据生成"
   ]
  },
  {
   "cell_type": "code",
   "execution_count": 2,
   "metadata": {},
   "outputs": [
    {
     "name": "stdout",
     "output_type": "stream",
     "text": [
      "(287, 11522)\n",
      "0.14149039426401294\n",
      "(23050, 4)\n"
     ]
    }
   ],
   "source": [
    "from utils.utils import getTopCorrPairs, calCorr\n",
    "from utils.utils_read import getInteractionDB\n",
    "import numpy as np\n",
    "import pandas as pd\n",
    "mapping = dict(zip(genes_use, range(len(genes_use))))\n",
    "lr_db, pathways, rec_tg, tftg = getInteractionDB(genes_use, \"Human\")\n",
    "genes_interest = np.unique(pathways.iloc[:, :2].values)\n",
    "\n",
    "data_df = adata.to_df()[genes_interest]\n",
    "print(data_df.shape)\n",
    "corr = calCorr(data_df)\n",
    "maps = dict(zip(genes_interest, range(len(genes_interest))))\n",
    "\n",
    "links = pathways.iloc[:, :2].values\n",
    "links = np.vectorize(maps.get)(links)\n",
    "pathways['weight'] = corr.values[links[:, 0], links[:, 1]]\n",
    "topCorrPairs = getTopCorrPairs(corr, 0.05)\n",
    "top_pathways = pd.merge(pathways, topCorrPairs, left_on=pathways.columns.values.tolist()[:2], right_on=topCorrPairs.columns.values.tolist(), how=\"inner\")\n",
    "print(top_pathways.shape)\n"
   ]
  },
  {
   "cell_type": "markdown",
   "metadata": {},
   "source": [
    "## 基因初始嵌入生成"
   ]
  },
  {
   "cell_type": "code",
   "execution_count": null,
   "metadata": {},
   "outputs": [],
   "source": [
    "from fastnode2vec import Node2Vec,Graph\n",
    "genes_edges = tuple(map(tuple, links.tolist()))\n",
    "graph = Graph(genes_edges,directed=False, weighted=False)\n",
    "node2vec = Node2Vec(graph, dim=64, walk_length=100, window=10, p=2.0, q=0.5, workers=2)\n",
    "node2vec.train(epochs=500)\n",
    "emb = {str(node): node2vec.wv[node] for node in graph.node_names}\n",
    "\n",
    "res = np.array([list(emb[str(i)]) for i in range(len(genes_interest))])\n",
    "np.save(os.path.join(input_dir,\"gene_interaction_graph.npy\"), res)"
   ]
  },
  {
   "cell_type": "markdown",
   "metadata": {},
   "source": [
    "# 3. 模型训练"
   ]
  },
  {
   "cell_type": "code",
   "execution_count": null,
   "metadata": {},
   "outputs": [],
   "source": [
    "import torch\n",
    "import random\n",
    "from torch.optim import Adam\n",
    "from sklearn.neighbors import kneighbors_graph\n",
    "from utils.loader import StDataset, Ripplewalk_sampler\n",
    "lr_rate = 1e-3\n",
    "if torch.cuda.is_available():\n",
    "    device = torch.device(\"cuda\")\n",
    "else:\n",
    "    device = torch.device(\"cpu\")\n",
    "SEED = 1002\n",
    "batch_size = 32\n",
    "k = 8\n",
    "\n",
    "np.random.seed(SEED)\n",
    "random.seed(SEED)\n",
    "torch.cuda.manual_seed(SEED)\n",
    "torch.manual_seed(SEED)\n",
    "\n",
    "adata = adata[:, genes_interest]\n",
    "clusters, counts = np.unique(adata.obs['celltype'], return_counts=True)\n",
    "\n",
    "data = adata.X.A\n",
    "gene_adj = np.vectorize(maps.get)(top_pathways.values[:, :2]).T\n",
    "edge_gene = torch.from_numpy(gene_adj).long().to(device)\n",
    "\n",
    "cell_graph = kneighbors_graph(adata.obsm[\"spatial\"], n_neighbors=k, include_self=False)\n",
    "dataset = StDataset(adata, cell_graph, adata.obs['celltype'])\n",
    "loader = Ripplewalk_sampler(cell_graph, batchsize=batch_size,total_times=5)"
   ]
  },
  {
   "cell_type": "code",
   "execution_count": null,
   "metadata": {},
   "outputs": [],
   "source": [
    "from model.torch_utils import CosineAnnealingWarmupRestarts\n",
    "from model.DualViewModel import CGNet\n",
    "value_nums = (data>0).sum(1)\n",
    "max_exp_gene_num = (int) (max(value_nums))\n",
    "embed_dim = 16\n",
    "num_class = clusters.shape[0]\n",
    "cell_embed_hidden_dim = 32\n",
    "model = CGNet(data.shape[1], \n",
    "                64, \n",
    "                embed_dim,\n",
    "                num_class, \n",
    "                lambda_pred=.4,\n",
    "                lambda_cell = .25,\n",
    "                lambda_gene = .25,\n",
    "                lambda_recon = .10,\n",
    "                path=os.path.join(input_dir, \"gene_interaction_graph.npy\")\n",
    "                )\n",
    "optimizer = Adam(model.parameters(), lr=lr_rate)\n",
    "# learning rate scheduler\n",
    "scheduler = CosineAnnealingWarmupRestarts(\n",
    "    optimizer,\n",
    "    first_cycle_steps=15,\n",
    "    cycle_mult=1,\n",
    "    max_lr=lr_rate,\n",
    "    min_lr=1e-6,\n",
    "    warmup_steps=5,\n",
    "    gamma=0.9\n",
    ")"
   ]
  },
  {
   "cell_type": "code",
   "execution_count": 5,
   "metadata": {},
   "outputs": [],
   "source": [
    "from model.LossHistory import LossHistory\n",
    "log_dir = './logs/molenoma/'\n",
    "loss_history = LossHistory(log_dir, model)"
   ]
  },
  {
   "cell_type": "code",
   "execution_count": null,
   "metadata": {},
   "outputs": [],
   "source": [
    "from tqdm import tqdm\n",
    "import os\n",
    "\n",
    "os.environ['CUDA_LAUNCH_BLOCKING'] = '1'\n",
    "Epoch = 200\n",
    "n_train_batch = len(dataset) // batch_size\n",
    "save_period = 100\n",
    "model.train()\n",
    "model = model.to(device)\n",
    "edge_gene = edge_gene.to(device)\n",
    "for epoch in tqdm(range(Epoch)):\n",
    "    model.train()\n",
    "    train_loss = 0\n",
    "    train_loss_gene_adj = 0\n",
    "    train_loss_cell_adj = 0\n",
    "    train_loss_pred = 0\n",
    "    train_loss_rec = 0\n",
    "    # for batch_id, batch_x, batch_adj, batch_y in loader:\n",
    "    for index in loader:\n",
    "        batch_x, batch_adj, batch_y = dataset.get_batch(index)\n",
    "        # print( batch_x.shape)\n",
    "        batch_adj = torch.from_numpy(np.vstack(np.nonzero(batch_adj.A+batch_adj.A.T)))\n",
    "        optimizer.zero_grad()\n",
    "        batch_x = batch_x.to(device)\n",
    "        batch_adj = batch_adj.to(device)\n",
    "        batch_y = batch_y.to(device)\n",
    "        out = model(batch_x, batch_adj, edge_gene, True, True)\n",
    "\n",
    "        loss, loss_gene_adj, loss_cell_adj, loss_pred, loss_rec  = model.loss(out, batch_x, batch_y, batch_adj, edge_gene)\n",
    "        loss.backward()\n",
    "        optimizer.step()\n",
    "        optimizer.zero_grad()\n",
    "        train_loss += loss.item()\n",
    "        train_loss_gene_adj += loss_gene_adj.item()\n",
    "        train_loss_cell_adj += loss_cell_adj.item()\n",
    "        train_loss_pred += loss_pred.item()\n",
    "        train_loss_rec += loss_rec.item()\n",
    "        \n",
    "    train_loss = train_loss/n_train_batch\n",
    "    train_loss_gene_adj = train_loss_gene_adj/n_train_batch\n",
    "    train_loss_pred = train_loss_pred/n_train_batch\n",
    "    train_loss_cell_adj = train_loss_cell_adj/n_train_batch\n",
    "    train_loss_rec = train_loss_rec/n_train_batch\n",
    "    scheduler.step()\n",
    "    print('Epoch:' + str(epoch + 1) + '/' + str(Epoch)+ \"\\t\\t\"+ 'Train Loss: %.3f' % (train_loss))\n",
    "    loss_history.append_loss(epoch + 1, train_loss, train_loss_gene_adj, train_loss_cell_adj, train_loss_pred, train_loss_rec )\n",
    "    \n",
    "    if (epoch + 1) % save_period == 0 or epoch + 1 == Epoch:\n",
    "        torch.save(model.state_dict(),\n",
    "                   os.path.join(log_dir, 'ep%03d-loss%.3f.pth' % (epoch + 1, train_loss)))\n",
    "model.eval()"
   ]
  },
  {
   "cell_type": "markdown",
   "metadata": {},
   "source": [
    "# 4. 模型可解释性-基因重要性分数"
   ]
  },
  {
   "cell_type": "code",
   "execution_count": 8,
   "metadata": {},
   "outputs": [],
   "source": [
    "from utils.gradcam import GradCAM\n",
    "\n",
    "\n",
    "\n",
    "grad_cam = GradCAM(model)"
   ]
  },
  {
   "cell_type": "code",
   "execution_count": null,
   "metadata": {},
   "outputs": [],
   "source": [
    "from utils.loader import Ripplewalk_prediction\n",
    "\n",
    "pre_loader = Ripplewalk_prediction(cell_graph, batchsize=128)\n",
    "exp_mtx = adata.X\n",
    "\n",
    "cell_importance = dict()\n",
    "gene_importance = {}\n",
    "for k in range(len(clusters)):\n",
    "    cam, cell_cam, index = None, None, None\n",
    "    for i in range(len(pre_loader)):\n",
    "        cur_index = pre_loader[i]\n",
    "        exp_batch = torch.FloatTensor(exp_mtx[cur_index].toarray()).to(device)\n",
    "        batch_adj = cell_graph[cur_index][:, cur_index].toarray()\n",
    "        batch_adj = torch.from_numpy(np.vstack(np.nonzero(batch_adj+batch_adj.T))).to(device)\n",
    "        batch_cam, batch_cell_cam = grad_cam.generate_cam(exp_batch, batch_adj, edge_gene, k)\n",
    "        if cam is None:\n",
    "            cam = batch_cam\n",
    "            cell_cam = batch_cell_cam\n",
    "            index = cur_index\n",
    "        else:\n",
    "            cell_cam = np.concatenate([cell_cam, batch_cell_cam], axis=0)\n",
    "            cam = np.concatenate([cam, batch_cam], axis=0)\n",
    "            index = np.concatenate([index, cur_index], axis=0)\n",
    "    cam = cam[np.argsort(index), :]\n",
    "    cell_cam = cell_cam[np.argsort(index), :]\n",
    "    index = index[np.argsort(index)]\n",
    "\n",
    "    if index.shape[0]>adata.shape[0]:\n",
    "        tmp = []\n",
    "        cell_tmp = []\n",
    "        for i in range(adata.shape[0]):\n",
    "            cur_tmp = cam[index==i, :].mean(axis=0)\n",
    "            cur_cell_tmp = cell_cam[index==i, :].mean(axis=0)\n",
    "            tmp.append(cur_tmp)\n",
    "            cell_tmp.append(cur_cell_tmp)\n",
    "        cam = np.array(tmp)   \n",
    "        cell_cam = np.array(cell_tmp)   \n",
    "    \n",
    "    gene_importance[clusters[k]] = cam\n",
    "    cell_importance[clusters[k]] = cell_cam"
   ]
  },
  {
   "cell_type": "code",
   "execution_count": 10,
   "metadata": {},
   "outputs": [
    {
     "data": {
      "text/plain": [
       "(1.75, 29.25, 6.0, 28.0)"
      ]
     },
     "execution_count": 10,
     "metadata": {},
     "output_type": "execute_result"
    },
    {
     "data": {
      "image/png": "[encoded data removed]",
      "text/plain": [
       "<Figure size 432x288 with 2 Axes>"
      ]
     },
     "metadata": {
      "needs_background": "light"
     },
     "output_type": "display_data"
    }
   ],
   "source": [
    "import matplotlib.pyplot as plt\n",
    "\n",
    "adata.obs['X'] = adata.obsm['spatial'][:,0]\n",
    "adata.obs['Y'] = adata.obsm['spatial'][:,1]\n",
    "celltype = 'B'\n",
    "plt.scatter(adata.obs['X'], adata.obs['Y'], \n",
    "            c=cell_importance[celltype], cmap = 'OrRd')\n",
    "plt.colorbar()\n",
    "plt.title(celltype)\n",
    "plt.axis(\"off\")"
   ]
  },
  {
   "cell_type": "markdown",
   "metadata": {},
   "source": [
    "# 5. 细胞通讯分析"
   ]
  },
  {
   "cell_type": "code",
   "execution_count": null,
   "metadata": {},
   "outputs": [],
   "source": [
    "os.environ['CUDA_LAUNCH_BLOCKING'] = '1'\n",
    "data = adata.X.A\n",
    "exp_batch = torch.FloatTensor(data[[0]]).to(device)\n",
    "edge_gene = edge_gene.to(device)\n",
    "with torch.no_grad():\n",
    "    gene_feture, gene_emb = model.get_gene_embedding(exp_batch, edge_gene)\n",
    "gene_feture = gene_feture.detach().cpu()\n",
    "gene_emb = gene_emb.detach().cpu()\n",
    "\n",
    "    "
   ]
  },
  {
   "cell_type": "code",
   "execution_count": null,
   "metadata": {},
   "outputs": [],
   "source": [
    "from utils.lr_analysis import find_sig_lr\n",
    "lr_pred = lr_db.iloc[:, :2]\n",
    "lr_gene = np.intersect1d(lr_pred.iloc[:, 0].unique(), genes_interest)\n",
    "lr_pred = lr_pred.loc[lr_pred['ligand'].isin(lr_gene),:]\n",
    "lr_pred = lr_pred.reset_index(drop=True)\n",
    "gene_embedding_df = pd.DataFrame(gene_emb.numpy(), index=genes_interest)\n",
    "\n",
    "lr_enriched = find_sig_lr(gene_embedding_df, lr_pred)\n"
   ]
  },
  {
   "cell_type": "code",
   "execution_count": 16,
   "metadata": {},
   "outputs": [
    {
     "name": "stderr",
     "output_type": "stream",
     "text": [
      "C:\\Users\\Liu\\AppData\\Local\\Temp/ipykernel_30752/760210769.py:19: FutureWarning: \n",
      "\n",
      "Passing `palette` without assigning `hue` is deprecated and will be removed in v0.14.0. Assign the `x` variable to `hue` and set `legend=False` for the same effect.\n",
      "\n",
      "  ax = sns.violinplot(data=df, width=0.5, density_norm='count', x='cell_type', y='cell_imp_score', palette=palette)\n"
     ]
    },
    {
     "data": {
      "image/png": "[encoded data removed]",
      "text/plain": [
       "<Figure size 360x288 with 1 Axes>"
      ]
     },
     "metadata": {},
     "output_type": "display_data"
    }
   ],
   "source": [
    "import seaborn as sns\n",
    "import matplotlib.pyplot as plt\n",
    "celltype = \"T\"\n",
    "cells = pd.DataFrame(cell_importance[celltype], columns = [\"cell_imp_score\"])\n",
    "min_val = cells[cells['cell_imp_score'] > 0]['cell_imp_score'].min()\n",
    "cells['cell_imp_score'] = cells['cell_imp_score'].apply(lambda x: x + min_val/2)\n",
    "cells['cell_imp_score']= np.log10(cells['cell_imp_score']+1)\n",
    "# Log normalization\n",
    "cells['cell_type'] = np.array(adata.obs['celltype'])\n",
    "df = cells\n",
    "sns.set_theme(style='white')\n",
    "palette={\n",
    "    \"B\":\"#468fc1\",\n",
    "    \"CAF\":\"#ff7e0d\",\n",
    "    \"Melanoma or unclassified\":\"#2ea02e\",\n",
    "    \"T\":\"#d62728\"\n",
    "}\n",
    "plt.figure(figsize=(5, 4))\n",
    "ax = sns.violinplot(data=df, width=0.5, density_norm='count', x='cell_type', y='cell_imp_score', palette=palette)\n",
    "plt.xticks(rotation=45)\n",
    "\n",
    "ax.set_title(celltype)\n",
    "ax.set(xlabel='cell type', ylabel='log cell importance score')\n",
    "\n",
    "plt.show()"
   ]
  },
  {
   "cell_type": "code",
   "execution_count": 10,
   "metadata": {},
   "outputs": [],
   "source": [
    "from utils.utils import findSigGenes\n",
    "\n",
    "labels = np.array(adata.obs['celltype'])\n",
    "important_genes_cluster = findSigGenes(gene_importance, labels, genes_interest)"
   ]
  },
  {
   "cell_type": "code",
   "execution_count": 46,
   "metadata": {},
   "outputs": [],
   "source": [
    "important_genes = set()\n",
    "for cluster in clusters:\n",
    "    important_genes.update(important_genes_cluster[cluster]['significant_genes'])\n",
    "    \n",
    "lr_enriched = lr_enriched.loc[\n",
    "    lr_enriched['ligand'].isin(important_genes) & lr_enriched['receptor'].isin(important_genes)\n",
    "]"
   ]
  },
  {
   "cell_type": "code",
   "execution_count": 47,
   "metadata": {},
   "outputs": [],
   "source": [
    "important_genes = set()\n",
    "for cluster in clusters:\n",
    "    important_genes.update(important_genes_cluster[cluster]['significant_genes'])\n",
    "    \n",
    "lr_enriched = lr_enriched.loc[\n",
    "    lr_enriched['ligand'].isin(important_genes) & lr_enriched['receptor'].isin(important_genes)\n",
    "]"
   ]
  },
  {
   "cell_type": "code",
   "execution_count": null,
   "metadata": {},
   "outputs": [],
   "source": [
    "from utils.lr_analysis import *\n",
    "\n",
    "lr_genes = np.unique(lr_enriched[['ligand', 'receptor']].values)\n",
    "\n",
    "sig_score = np.zeros(shape=(adata.shape[0], len(lr_genes)))\n",
    "\n",
    "labels = np.array(adata.obs['celltype'])\n",
    "clusters = np.unique(labels)\n",
    "\n",
    "lr_genes_idx = np.vectorize(maps.get)(lr_genes)\n",
    "for cluster in clusters:\n",
    "    target_indices = (labels == cluster)\n",
    "    gene_importance_score = gene_importance[cluster][target_indices, :]\n",
    "    gene_importance_score = gene_importance_score[:, lr_genes_idx]\n",
    "    sig_score[target_indices, :] = gene_importance_score\n",
    "    \n",
    "sig_score = pd.DataFrame(sig_score, columns=lr_genes)"
   ]
  },
  {
   "cell_type": "code",
   "execution_count": 44,
   "metadata": {},
   "outputs": [],
   "source": [
    "\n",
    "w_best = default_w_visium(adata)\n",
    "dist_factor_mat = dist_factor_calculate(adata, w_best=w_best )\n",
    "\n",
    "celltype_cci = getCelltypeInteraction(sig_score, lr_enriched, clusters, clusters, labels, dist_factor_mat)"
   ]
  },
  {
   "cell_type": "code",
   "execution_count": null,
   "metadata": {},
   "outputs": [],
   "source": [
    "output_dir = os.path.join(\"./output\", \"mel_data\")\n",
    "\n",
    "if not os.path.exists(output_dir):\n",
    "    os.makedirs(output_dir)\n",
    "celltype_cci.to_csv(os.path.join(output_dir, \"celltype_cci.csv\"))"
   ]
  }
 ],
 "metadata": {
  "kernelspec": {
   "display_name": "base",
   "language": "python",
   "name": "python3"
  },
  "language_info": {
   "codemirror_mode": {
    "name": "ipython",
    "version": 3
   },
   "file_extension": ".py",
   "mimetype": "text/x-python",
   "name": "python",
   "nbconvert_exporter": "python",
   "pygments_lexer": "ipython3",
   "version": "3.9.7"
  }
 },
 "nbformat": 4,
 "nbformat_minor": 2
}
